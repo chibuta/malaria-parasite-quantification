{
 "cells": [
  {
   "cell_type": "markdown",
   "metadata": {},
   "source": [
    "**Prepare data for training:\n",
    "\n",
    "Download the dataset from: http://air.ug/downloads/plasmodium-phonecamera.zip and \n",
    "                           http://air.ug/downloads/plasmodium-images.zip\n"
   ]
  },
  {
   "cell_type": "code",
   "execution_count": 2,
   "metadata": {},
   "outputs": [],
   "source": [
    "import os\n",
    "import glob\n",
    "import pandas as pd\n",
    "import xml.etree.ElementTree as ET\n",
    "import numpy as np\n",
    "import shutil\n",
    "import glob"
   ]
  },
  {
   "cell_type": "code",
   "execution_count": 12,
   "metadata": {},
   "outputs": [],
   "source": [
    "\n",
    "folder_ann = 'data/plasmodium-moticcamera/annotation/'\n",
    "folder_imgs = 'data/plasmodium-moticcamera/images/'\n",
    "images = []\n",
    "for img in sorted(os.listdir(folder_ann)): # All jpeg images\n",
    "    if '.xml' in img:\n",
    "        images.append(img)\n",
    "    "
   ]
  },
  {
   "cell_type": "code",
   "execution_count": 13,
   "metadata": {},
   "outputs": [
    {
     "data": {
      "text/plain": [
       "2703"
      ]
     },
     "execution_count": 13,
     "metadata": {},
     "output_type": "execute_result"
    }
   ],
   "source": [
    "len(images)"
   ]
  },
  {
   "cell_type": "code",
   "execution_count": 14,
   "metadata": {},
   "outputs": [],
   "source": [
    "#shuffle images\n",
    "images = np.array(images)\n",
    "for i in range(5000):\n",
    "    np.random.shuffle(images)\n"
   ]
  },
  {
   "cell_type": "code",
   "execution_count": 15,
   "metadata": {},
   "outputs": [
    {
     "data": {
      "text/plain": [
       "array(['plasmodium-0062.xml', 'plasmodium-2026.xml',\n",
       "       'plasmodium-2165.xml', ..., 'plasmodium-2505.xml',\n",
       "       'plasmodium-1664.xml', 'plasmodium-2473.xml'], dtype='<U19')"
      ]
     },
     "execution_count": 15,
     "metadata": {},
     "output_type": "execute_result"
    }
   ],
   "source": [
    "images"
   ]
  },
  {
   "cell_type": "code",
   "execution_count": 16,
   "metadata": {},
   "outputs": [],
   "source": [
    "i = int(np.round(len(images)*.6)) #60 training\n",
    "v = int((len(images) - int(np.round(len(images)*.6))) *.5) #20 test\n"
   ]
  },
  {
   "cell_type": "code",
   "execution_count": 17,
   "metadata": {},
   "outputs": [],
   "source": [
    "train = images[:i]\n",
    "valid = images[i:i+v]\n",
    "test  = images[i+v:]"
   ]
  },
  {
   "cell_type": "code",
   "execution_count": 18,
   "metadata": {},
   "outputs": [
    {
     "name": "stdout",
     "output_type": "stream",
     "text": [
      "Train: 1622 Valid:  540 Test:  541\n"
     ]
    }
   ],
   "source": [
    "print('Train:', len(train), 'Valid: ',len(valid), 'Test: ',len(test))"
   ]
  },
  {
   "cell_type": "code",
   "execution_count": 21,
   "metadata": {},
   "outputs": [],
   "source": [
    "#save test\n",
    "for img in test:\n",
    "    shutil.copy(folder_ann+img,'data/malaria_motic_dataset/test/')\n",
    "    shutil.copy(folder_imgs+img[:-3]+'jpg','data/malaria_motic_dataset/test/')"
   ]
  },
  {
   "cell_type": "code",
   "execution_count": 22,
   "metadata": {},
   "outputs": [],
   "source": [
    "#save test\n",
    "for img in valid:\n",
    "    shutil.copy(folder_ann+img,'data/malaria_motic_dataset/valid/')\n",
    "    shutil.copy(folder_imgs+img[:-3]+'jpg','data/malaria_motic_dataset/valid/')"
   ]
  },
  {
   "cell_type": "code",
   "execution_count": 23,
   "metadata": {},
   "outputs": [],
   "source": [
    "#save train\n",
    "for img in train:\n",
    "    shutil.copy(folder_ann+img,'data/malaria_motic_dataset/train/')\n",
    "    shutil.copy(folder_imgs+img[:-3]+'jpg','data/malaria_motic_dataset/train/')"
   ]
  },
  {
   "cell_type": "code",
   "execution_count": null,
   "metadata": {},
   "outputs": [],
   "source": []
  }
 ],
 "metadata": {
  "kernelspec": {
   "display_name": "Python 3",
   "language": "python",
   "name": "python3"
  },
  "language_info": {
   "codemirror_mode": {
    "name": "ipython",
    "version": 3
   },
   "file_extension": ".py",
   "mimetype": "text/x-python",
   "name": "python",
   "nbconvert_exporter": "python",
   "pygments_lexer": "ipython3",
   "version": "3.6.4"
  }
 },
 "nbformat": 4,
 "nbformat_minor": 2
}
